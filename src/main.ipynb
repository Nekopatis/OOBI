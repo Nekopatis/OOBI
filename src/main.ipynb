{
 "cells": [
  {
   "cell_type": "code",
   "execution_count": null,
   "id": "49d31aeb",
   "metadata": {},
   "outputs": [],
   "source": [
    "import random\n",
    "from typing import cast\n",
    "\n",
    "from base.propertyClass import FullProperty, ValueProperty\n",
    "from modifier.curveProperty import CurveProperty\n",
    "from modifier.pointProperty import PointProperty, Point2D\n",
    "from analyzer.analyzer import analyseOneFullProperty, mappingToPercent\n",
    "\n",
    "from plotlyhelper.helper import DisplayPropertyModifier, DisplayValuePropertyLerp, MakeFullPropertyExample\n",
    "from plotlyhelper.pointProperty_helper import displayPoint2D, displayPointsProperty\n",
    "from plotlyhelper.analyzer_helper import displayAppearanceMapping, displayMapping"
   ]
  },
  {
   "cell_type": "code",
   "execution_count": null,
   "id": "56b14214",
   "metadata": {},
   "outputs": [],
   "source": [
    "rnd_value = lambda : random.uniform(1, 100)\n",
    "\n",
    "def rnd_ValueProperty_Curve() -> ValueProperty :\n",
    "    return ValueProperty(rnd_value(), CurveProperty.rnd())\n",
    "\n",
    "def rnd_ValueProperty_Point() -> ValueProperty :\n",
    "    return ValueProperty(rnd_value(), PointProperty.rnd_AutoCircle())\n",
    "\n",
    "rnd_Property = rnd_ValueProperty_Curve\n",
    "rnd_FullProperty = lambda : FullProperty(rnd_Property(), rnd_Property())"
   ]
  },
  {
   "cell_type": "code",
   "execution_count": null,
   "id": "bfeed020",
   "metadata": {},
   "outputs": [],
   "source": [
    "maxVal_base = 1000\n",
    "precision_base = 10\n",
    "iter_base = [i/precision_base for i in range(0, maxVal_base*precision_base+1)]"
   ]
  },
  {
   "cell_type": "code",
   "execution_count": null,
   "id": "b9b7f936",
   "metadata": {},
   "outputs": [],
   "source": [
    "precision_lerp = 1000\n",
    "iter_lerp = [i/precision_lerp for i in range(0, precision_lerp+1)]"
   ]
  },
  {
   "cell_type": "code",
   "execution_count": null,
   "id": "f90732e1",
   "metadata": {},
   "outputs": [],
   "source": [
    "curve : CurveProperty = CurveProperty(1,0,10,1,0.1,4)\n",
    "DisplayPropertyModifier(iter_base, curve, \"example\")"
   ]
  },
  {
   "cell_type": "code",
   "execution_count": null,
   "id": "0c41f74a",
   "metadata": {},
   "outputs": [],
   "source": [
    "point : PointProperty = PointProperty.rnd_AutoCircle()\n",
    "displayPoint2D([point.center, point.direction, point.getFinalPosition()], [], [])\n",
    "DisplayPropertyModifier(iter_base, point, \"example\")"
   ]
  },
  {
   "cell_type": "code",
   "execution_count": null,
   "id": "3a80a746",
   "metadata": {},
   "outputs": [],
   "source": [
    "m1 : ValueProperty = ValueProperty(10, CurveProperty(1,0,10,1,0.1,4))\n",
    "m2 : ValueProperty = ValueProperty(20, CurveProperty(3,5,7,0.5,0.2,8))\n",
    "DisplayValuePropertyLerp(iter_lerp, m1, m2, \"base\")"
   ]
  },
  {
   "cell_type": "code",
   "execution_count": null,
   "id": "5f8437b9",
   "metadata": {},
   "outputs": [],
   "source": [
    "m1 : ValueProperty = ValueProperty(10, PointProperty(1, Point2D(2, 3), Point2D(3, 3)))\n",
    "m2 : ValueProperty = ValueProperty(20, PointProperty(1, Point2D(4, 8), Point2D(-1, -4)))\n",
    "\n",
    "DisplayValuePropertyLerp(iter_lerp, m1, m2, \"example\")\n",
    "displayPointsProperty(cast(PointProperty, m1.modifier), cast(PointProperty, m2.modifier), iter_lerp, \"example\")"
   ]
  },
  {
   "cell_type": "code",
   "execution_count": null,
   "id": "05f9aedd",
   "metadata": {},
   "outputs": [],
   "source": [
    "\"\"\"\n",
    "tmp1 : ValueProperty = rnd_Property()\n",
    "tmp1.quickPrint()\n",
    "\n",
    "iter = 10\n",
    "for i in range(0, iter) : \n",
    "    tmp2 : ValueProperty = rnd_Property()\n",
    "    tmp2.quickPrint()\n",
    "\n",
    "    DisplayValuePropertyLerp(iter_lerp, tmp1, tmp2, f\"example {i}\")\n",
    "    print(\"\\n\\n\\n\\n\\n\\n\\n\\n\")\n",
    "\"\"\""
   ]
  },
  {
   "cell_type": "code",
   "execution_count": null,
   "id": "9c4437fa",
   "metadata": {},
   "outputs": [],
   "source": [
    "tmp1 : FullProperty = rnd_FullProperty()\n",
    "tmp1.print()\n",
    "\n",
    "iter = 10\n",
    "repeat = 500\n",
    "iter_repeat = [i/repeat for i in range(0, repeat+1)]\n",
    "\n",
    "for i in range(0, iter) : \n",
    "    tmp2 : FullProperty = rnd_FullProperty()\n",
    "    tmp2.print()\n",
    "\n",
    "    MakeFullPropertyExample(iter_repeat, tmp1, tmp2)\n",
    "    print(\"\\n\\n\")"
   ]
  },
  {
   "cell_type": "code",
   "execution_count": null,
   "id": "5c027b0b",
   "metadata": {},
   "outputs": [],
   "source": [
    "tmp1 : FullProperty = rnd_FullProperty()\n",
    "tmp1.print()"
   ]
  },
  {
   "cell_type": "code",
   "execution_count": null,
   "id": "9729814d",
   "metadata": {},
   "outputs": [],
   "source": [
    "repeat = 1000\n",
    "iter_repeat = [i/repeat for i in range(0, repeat+1)]\n",
    "comparator = [rnd_FullProperty() for _ in iter_repeat]"
   ]
  },
  {
   "cell_type": "code",
   "execution_count": null,
   "id": "c03a88a4",
   "metadata": {},
   "outputs": [],
   "source": [
    "mapping = analyseOneFullProperty(tmp1, comparator, 100)"
   ]
  },
  {
   "cell_type": "code",
   "execution_count": null,
   "id": "a819f09e",
   "metadata": {},
   "outputs": [],
   "source": [
    "print(mapping)\n",
    "displayAppearanceMapping(mapping, \"example\")"
   ]
  }
 ],
 "metadata": {
  "kernelspec": {
   "display_name": "global1",
   "language": "python",
   "name": "python3"
  },
  "language_info": {
   "codemirror_mode": {
    "name": "ipython",
    "version": 3
   },
   "file_extension": ".py",
   "mimetype": "text/x-python",
   "name": "python",
   "nbconvert_exporter": "python",
   "pygments_lexer": "ipython3",
   "version": "3.13.5"
  }
 },
 "nbformat": 4,
 "nbformat_minor": 5
}
