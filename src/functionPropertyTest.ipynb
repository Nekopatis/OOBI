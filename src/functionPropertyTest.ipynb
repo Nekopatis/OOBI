{
 "cells": [
  {
   "cell_type": "code",
   "execution_count": null,
   "id": "49d31aeb",
   "metadata": {},
   "outputs": [],
   "source": [
    "import math\n",
    "import random\n",
    "from typing import cast, List\n",
    "\n",
    "from base.propertyClass import FullProperty, ValueProperty\n",
    "from modifier.functionProperty import FunctionPropertyMix, FunctionProperty\n",
    "\n",
    "from plotlyhelper.helper import DisplayLineWithSimpleLerp"
   ]
  },
  {
   "cell_type": "code",
   "execution_count": null,
   "id": "4eaa2f42",
   "metadata": {},
   "outputs": [],
   "source": [
    "justX = FunctionProperty(lambda x : x)\n",
    "constX = FunctionProperty(lambda x : 5)\n",
    "sinX = FunctionProperty(lambda x : math.sin(x) * math.log(1 + x))\n",
    "cosX = FunctionProperty(lambda x : math.cos(x) * math.log(1 + x))\n",
    "expX = FunctionProperty(math.exp)\n",
    "logX = FunctionProperty(lambda x : math.log(1 + x))\n",
    "sqrtX = FunctionProperty(math.sqrt)\n",
    "sqrX = FunctionProperty(lambda x : math.pow(x * 0.1, 2))\n",
    "\n",
    "FunctionPropertyList = [justX, constX, logX, sqrtX, sqrX]"
   ]
  },
  {
   "cell_type": "code",
   "execution_count": null,
   "id": "83bfe7bc",
   "metadata": {},
   "outputs": [],
   "source": [
    "rnd_value = lambda : random.uniform(1, 100)\n",
    "\n",
    "def makeRndValueProperty() -> ValueProperty :\n",
    "    return ValueProperty(rnd_value(), random.choice(FunctionPropertyList))"
   ]
  },
  {
   "cell_type": "code",
   "execution_count": null,
   "id": "d03a5b19",
   "metadata": {},
   "outputs": [],
   "source": [
    "def displayFunc(func, x : List[float]) -> None :\n",
    "    y = [func(i) for i in x]\n",
    "    DisplayLineWithSimpleLerp(x, y, \"example\", \"example\")\n",
    "\n",
    "def buildRange(count : int) -> List[float] :\n",
    "    return [i / count for i in range(count+1)]\n",
    "\n",
    "def buildFunc(lerp0 : FunctionProperty, lerp1 : FunctionProperty, exValue : float) :\n",
    "    return lambda x : cast(FunctionPropertyMix, FunctionPropertyMix.lerp(lerp0, lerp1, x)).transformValue(exValue)\n",
    "\n",
    "def buildFuncValue(lerp0 : ValueProperty, lerp1 : ValueProperty) :\n",
    "    return lambda x : cast(ValueProperty, ValueProperty.lerp(lerp0, lerp1, x)).transformValue()"
   ]
  },
  {
   "cell_type": "code",
   "execution_count": null,
   "id": "134bcf66",
   "metadata": {},
   "outputs": [],
   "source": [
    "exValue = 10\n",
    "x = buildRange(1000)\n",
    "displayFunc(buildFunc(constX, sqrX, exValue), x)"
   ]
  },
  {
   "cell_type": "code",
   "execution_count": null,
   "id": "3a63ca05",
   "metadata": {},
   "outputs": [],
   "source": [
    "exValue = 10\n",
    "x = buildRange(1000)\n",
    "\n",
    "for i in range(5) :\n",
    "    displayFunc(buildFuncValue(makeRndValueProperty(), makeRndValueProperty()), x)\n"
   ]
  }
 ],
 "metadata": {
  "kernelspec": {
   "display_name": "global1",
   "language": "python",
   "name": "python3"
  },
  "language_info": {
   "codemirror_mode": {
    "name": "ipython",
    "version": 3
   },
   "file_extension": ".py",
   "mimetype": "text/x-python",
   "name": "python",
   "nbconvert_exporter": "python",
   "pygments_lexer": "ipython3",
   "version": "3.13.5"
  }
 },
 "nbformat": 4,
 "nbformat_minor": 5
}
