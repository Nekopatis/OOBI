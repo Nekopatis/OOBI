{
 "cells": [
  {
   "cell_type": "code",
   "execution_count": 1,
   "id": "49d31aeb",
   "metadata": {},
   "outputs": [],
   "source": [
    "import math\n",
    "import random\n",
    "from typing import cast, List\n",
    "\n",
    "from base.propertyClass import FullProperty, ValueProperty\n",
    "from modifier.functionProperty import FunctionPropertyMix, FunctionProperty, FunctionPropertyPow\n",
    "from analyzer.listanalyzer import analyseIterv2, analyzeProperties\n",
    "\n",
    "from plotlyhelper.helper import DisplayLineWithSimpleLerp\n",
    "from plotlyhelper.analyzer_helper import displayFullAnalyzerResultMap, displayFullAnalyzerResult"
   ]
  },
  {
   "cell_type": "code",
   "execution_count": 2,
   "id": "83bfe7bc",
   "metadata": {},
   "outputs": [],
   "source": [
    "rnd_value = lambda : random.uniform(1, 100)\n",
    "\n",
    "def makeRndValueProperty() -> ValueProperty :\n",
    "    return ValueProperty(rnd_value(), FunctionPropertyMix.valueToFunctionPropertyMix(FunctionPropertyPow.rnd(50)))\n",
    "\n",
    "def makeRndFullProperty() -> FullProperty :\n",
    "    return FullProperty(makeRndValueProperty(), makeRndValueProperty())"
   ]
  },
  {
   "cell_type": "code",
   "execution_count": 3,
   "id": "8b077be4",
   "metadata": {},
   "outputs": [],
   "source": [
    "def rndFunctionPropertyPows(count : int = 20, scale : float = 50) -> List[FunctionPropertyPow] :\n",
    "    return [FunctionPropertyPow.rnd(scale) for _ in range(count)]\n",
    "\n",
    "def rndFunctionPropertyMixList(functionPropertyPowList : List[FunctionPropertyPow], count : int = 4, subCount : int = 5) -> List[ValueProperty] :\n",
    "    FunctionPropertyMixList : List[ValueProperty] = []\n",
    "    for _ in range(count) :\n",
    "        selected : set[FunctionPropertyPow] = set()\n",
    "        values : List[float] = []\n",
    "\n",
    "        [selected.add(random.choice(functionPropertyPowList)) for _ in range(subCount)]\n",
    "        [values.append(random.uniform(0,1)) for _ in selected]\n",
    "\n",
    "        FunctionPropertyMixList.append(ValueProperty(rnd_value(), FunctionPropertyMix(list(zip(selected, values)))))\n",
    "\n",
    "    return FunctionPropertyMixList"
   ]
  },
  {
   "cell_type": "code",
   "execution_count": 4,
   "id": "ba8887d2",
   "metadata": {},
   "outputs": [],
   "source": [
    "functionPropertyPowListX : List[FunctionPropertyPow] = rndFunctionPropertyPows()\n",
    "functionPropertyPowListY : List[FunctionPropertyPow] = rndFunctionPropertyPows()"
   ]
  },
  {
   "cell_type": "code",
   "execution_count": 5,
   "id": "52016e7d",
   "metadata": {},
   "outputs": [],
   "source": [
    "ValuePropertyListX : List[ValueProperty] = rndFunctionPropertyMixList(functionPropertyPowListX)\n",
    "ValuePropertyListY : List[ValueProperty] = rndFunctionPropertyMixList(functionPropertyPowListY)\n",
    "FullPropertyList   : List[FullProperty]  = [FullProperty(x, y) for x, y in zip(ValuePropertyListX, ValuePropertyListY)] "
   ]
  },
  {
   "cell_type": "code",
   "execution_count": 6,
   "id": "d03a5b19",
   "metadata": {},
   "outputs": [],
   "source": [
    "def displayFunc(func, x : List[float]) -> None :\n",
    "    y = [func(i) for i in x]\n",
    "    DisplayLineWithSimpleLerp(x, y, \"example\", \"example\")\n",
    "\n",
    "def buildRange(count : int) -> List[float] :\n",
    "    return [i / count for i in range(count+1)]\n",
    "\n",
    "def buildFunc(lerp0 : FunctionPropertyMix, lerp1 : FunctionPropertyMix, exValue : float) :\n",
    "    lerp0.quickPrint()\n",
    "    lerp1.quickPrint()\n",
    "    return lambda x : cast(FunctionPropertyMix, FunctionPropertyMix.lerp(lerp0, lerp1, x)).transformValue(exValue)\n",
    "\n",
    "def buildFuncValue(lerp0 : ValueProperty, lerp1 : ValueProperty) :\n",
    "    lerp0.quickPrint()\n",
    "    lerp1.quickPrint()\n",
    "    return lambda x : cast(ValueProperty, ValueProperty.lerp(lerp0, lerp1, x)).transformValue()"
   ]
  },
  {
   "cell_type": "code",
   "execution_count": null,
   "id": "3a63ca05",
   "metadata": {},
   "outputs": [],
   "source": [
    "exValue = 10\n",
    "x = buildRange(1000)\n",
    "\n",
    "for i in range(5) :\n",
    "    displayFunc(buildFuncValue(makeRndValueProperty(), makeRndValueProperty()), x)"
   ]
  }
 ],
 "metadata": {
  "kernelspec": {
   "display_name": "global1",
   "language": "python",
   "name": "python3"
  },
  "language_info": {
   "codemirror_mode": {
    "name": "ipython",
    "version": 3
   },
   "file_extension": ".py",
   "mimetype": "text/x-python",
   "name": "python",
   "nbconvert_exporter": "python",
   "pygments_lexer": "ipython3",
   "version": "3.13.5"
  }
 },
 "nbformat": 4,
 "nbformat_minor": 5
}
